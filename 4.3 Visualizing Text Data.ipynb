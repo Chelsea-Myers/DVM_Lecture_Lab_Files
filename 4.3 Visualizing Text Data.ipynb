{
 "cells": [
  {
   "cell_type": "markdown",
   "id": "7790bbd4-0d2e-4350-876f-eff8271cea4e",
   "metadata": {},
   "source": [
    "# Lab Instructions\n",
    "\n",
    "Using `European Restaurant Reviews.csv`, create at least three visualizations to convince me which resaurant is the best.  Write an interpretation of each visualization. You can use whatever methods you want, but by the time I'm done reading your lab, eating there should be on my bucket list."
   ]
  },
  {
   "cell_type": "code",
   "execution_count": null,
   "id": "4298bd7f-7a79-47d1-8c50-0398b765a572",
   "metadata": {},
   "outputs": [],
   "source": []
  }
 ],
 "metadata": {
  "kernelspec": {
   "display_name": "Python 3 (ipykernel)",
   "language": "python",
   "name": "python3"
  },
  "language_info": {
   "codemirror_mode": {
    "name": "ipython",
    "version": 3
   },
   "file_extension": ".py",
   "mimetype": "text/x-python",
   "name": "python",
   "nbconvert_exporter": "python",
   "pygments_lexer": "ipython3",
   "version": "3.11.4"
  }
 },
 "nbformat": 4,
 "nbformat_minor": 5
}

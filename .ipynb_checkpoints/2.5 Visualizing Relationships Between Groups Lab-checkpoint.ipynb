{
 "cells": [
  {
   "cell_type": "markdown",
   "id": "28c93a12-5d6b-4ec2-8f55-ae8041395903",
   "metadata": {},
   "source": [
    "# Lab Instructions\n",
    "\n",
    "You are part of a data team for a financial institute that uses an AI model to determine who will and will not be granted a loan.  Recently, there have been complaints from customers that the model unfairly discriminates based on the applicant's age and sex. A court has ordered that the financial institution must provide information about how the model works.  \n",
    "\n",
    "Data from recent loan applications is given in `loan_data.csv`.  The data dictionary is below:\n",
    "\n",
    "person_age\tAge of the person\tFloat\n",
    "\n",
    "person_gender\tGender of the person\tCategorical\n",
    "\n",
    "person_education\tHighest education level\tCategorical\n",
    "\n",
    "person_income\tAnnual income\tFloat\n",
    "\n",
    "person_emp_exp\tYears of employment experience\tInteger\n",
    "\n",
    "person_home_ownership\tHome ownership status (e.g., rent, own, mortgage)\tCategorical\n",
    "\n",
    "loan_amnt\tLoan amount requested\tFloat\n",
    "\n",
    "loan_intent\tPurpose of the loan\tCategorical\n",
    "\n",
    "loan_int_rate\tLoan interest rate\tFloat\n",
    "\n",
    "loan_percent_income\tLoan amount as a percentage of annual income\tFloat\n",
    "\n",
    "cb_person_cred_hist_length\tLength of credit history in years\tFloat\n",
    "\n",
    "credit_score\tCredit score of the person\tInteger\n",
    "\n",
    "previous_loan_defaults_on_file\tIndicator of previous loan defaults\tCategorical\n",
    "\n",
    "loan_status (target variable)\tLoan approval status: 1 = approved; 0 = rejected\tInteger\n",
    "\n",
    "Visualize the relationship between each feature and `loan_status`.  Which features seem to drive the model's decision to grant a loan?  Which seem unrelated?  Should the financial institution be concerned about potential legal trouble?"
   ]
  },
  {
   "cell_type": "code",
   "execution_count": null,
   "id": "06019db4-076d-41cb-b231-890d35d1b10b",
   "metadata": {},
   "outputs": [],
   "source": []
  }
 ],
 "metadata": {
  "kernelspec": {
   "display_name": "Python 3 (ipykernel)",
   "language": "python",
   "name": "python3"
  },
  "language_info": {
   "codemirror_mode": {
    "name": "ipython",
    "version": 3
   },
   "file_extension": ".py",
   "mimetype": "text/x-python",
   "name": "python",
   "nbconvert_exporter": "python",
   "pygments_lexer": "ipython3",
   "version": "3.11.4"
  }
 },
 "nbformat": 4,
 "nbformat_minor": 5
}

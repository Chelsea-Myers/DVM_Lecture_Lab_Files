{
 "cells": [
  {
   "cell_type": "markdown",
   "id": "7790bbd4-0d2e-4350-876f-eff8271cea4e",
   "metadata": {},
   "source": [
    "# Lab Instructions\n",
    "\n",
    "You have been hired by a forensic science team to help develop a model that they hope can be used to predict the length of time a body has been buried based on the amount of nitrogen remaining in the femur of the skeleton.  You can download the data using [this link](https://github.com/Chelsea-Myers/Datasets/blob/master/Longbones.csv).  \n",
    "\n",
    "A description of the dataset follows:\n",
    "\n",
    "Nitrogen content among 42 male skeletons from\n",
    "2 cemeteries of various interrnment lengths, ages, depths, lime addition.\n",
    "Some missing ages and depths. The first 3 cases were contaminated\n",
    "with oil.\n",
    "\n",
    "| Variables | Values |\n",
    "| :---------------- | ------: | \n",
    "|Burial Site  |1=A, 2=LG   |\n",
    "|Deposition (internment) Time  | Years |\n",
    "|Depth |feet|\n",
    "|Lime Added | 1=Yes, 0=No |\n",
    "|Age of Person | Years\n",
    "|Nitrogen Level | g/100g of bone |\n",
    "|Oil Contamination | 1=Yes, 0=No |\n",
    "\n",
    "\n",
    "Source: D.R. Jarvis (1997). \"Nitrogen Levels in Long Bones from\n",
    "Coffin Burials Interred for Periods of 26-90 Years,\" Forensic Science\n",
    "International, Vol85, pp199-208.\n",
    "\n",
    "\n",
    "First, determine if it makes sense to model the relationship between nitrogen level and deposition (interment) time.  Justify your answer.  If it does, then determine how each of the other features (burial site, depth, lime added, age of person, and oil contamination) affect the relationship (if at all).  \n",
    "\n",
    "If a new skeleton with an unknown interment time was discovered in one of the cemeteries, what information should the forensic scientists collect in order to predict how long it has been buried?"
   ]
  },
  {
   "cell_type": "code",
   "execution_count": null,
   "id": "cdcec0fa-fb4d-4bf1-8609-3928093f681d",
   "metadata": {},
   "outputs": [],
   "source": []
  }
 ],
 "metadata": {
  "kernelspec": {
   "display_name": "Python 3 (ipykernel)",
   "language": "python",
   "name": "python3"
  },
  "language_info": {
   "codemirror_mode": {
    "name": "ipython",
    "version": 3
   },
   "file_extension": ".py",
   "mimetype": "text/x-python",
   "name": "python",
   "nbconvert_exporter": "python",
   "pygments_lexer": "ipython3",
   "version": "3.11.4"
  }
 },
 "nbformat": 4,
 "nbformat_minor": 5
}

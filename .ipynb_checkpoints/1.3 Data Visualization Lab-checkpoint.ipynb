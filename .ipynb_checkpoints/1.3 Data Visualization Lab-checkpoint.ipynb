{
 "cells": [
  {
   "cell_type": "markdown",
   "id": "745729be-5560-4f36-bc6d-7e2d024d70d5",
   "metadata": {},
   "source": [
    "# Lab Instructions\n",
    "\n",
    "Complete your lab by answering questions below.  Feel free to add more code and text blocks as necessary.  Make sure that your answer is obvious.  Show your work on programming questions. The more you show, the more credit you can earn.  \n",
    "\n",
    "Zip the completed file and upload it to submit.  \n",
    "\n",
    "Questions will be graded using the rubric attached to the assignment."
   ]
  },
  {
   "cell_type": "markdown",
   "id": "425a1154-afc0-4148-8e92-31edce237c4e",
   "metadata": {},
   "source": [
    "**Q1:** `artist(s)_name` lists the names of the artist(s) credited on the song.  What type of data is `artist(s)_name` in the Spotify dataset?  Select two terms below that best describe the data type.  Import the Spotify data using `df = pd.read_csv('spotify-2023.csv', encoding='ISO-8859-1')`.\n",
    "\n",
    "* Categorical\n",
    "\n",
    "* Quantitative\n",
    "\n",
    "* Ordinal\n",
    "\n",
    "* Nominal\n",
    "\n",
    "* Continuous\n",
    "\n",
    "* Discrete\n",
    "\n",
    "* Regular\n",
    "\n",
    "* Irregular"
   ]
  },
  {
   "cell_type": "markdown",
   "id": "44dce3fb-7956-4777-ab0b-355e6a02f0bf",
   "metadata": {},
   "source": [
    "**A1:** "
   ]
  },
  {
   "cell_type": "markdown",
   "id": "2f8e7e23-aea3-4557-a573-5c937be7e4e9",
   "metadata": {},
   "source": [
    "**Q2:** `artist_count` lists the number of artists credited with the song.  What type of data is `artist_count` in the Spotify dataset?  Select two terms below that best describe the data type. \n",
    "\n",
    "* Categorical\n",
    "\n",
    "* Quantitative\n",
    "\n",
    "* Ordinal\n",
    "\n",
    "* Nominal\n",
    "\n",
    "* Continuous\n",
    "\n",
    "* Discrete\n",
    "\n",
    "* Regular\n",
    "\n",
    "* Irregular"
   ]
  },
  {
   "cell_type": "markdown",
   "id": "c392ccb9-ba14-4d0b-b4dc-5b5e1cb5841d",
   "metadata": {},
   "source": [
    "**A2:** "
   ]
  },
  {
   "cell_type": "markdown",
   "id": "acc14ca0-0d61-4bb9-afad-3f6970178a45",
   "metadata": {},
   "source": [
    "**Q3:** `artist(s)_name` lists the names of the artist(s) credited on the song. Which artist(s) had the greatest number of songs in the Spotify dataset?  "
   ]
  },
  {
   "cell_type": "markdown",
   "id": "e83a027e-65fc-4e1e-b0a7-0894da08e50c",
   "metadata": {},
   "source": [
    "**A3:** "
   ]
  },
  {
   "cell_type": "markdown",
   "id": "3b9b8769-dee8-479f-930f-032512d24ed9",
   "metadata": {},
   "source": [
    "**Q4:** The `mode` feature in the Spotify data tells us if the song is written in a major or minor key.  Visualize the distribution of `mode` from the Spotify data.  Make sure to give your figure a title.  "
   ]
  },
  {
   "cell_type": "code",
   "execution_count": 3,
   "id": "8ae52be8-16bc-4bb6-922e-c6e905910d7f",
   "metadata": {},
   "outputs": [],
   "source": [
    "#Q4: "
   ]
  },
  {
   "cell_type": "markdown",
   "id": "1981e196-3cf0-4576-bdc4-1b08034a38ed",
   "metadata": {},
   "source": [
    "**Q5:**  Based on the visualization you created to answer the previous question, are there more popular songs written in a major key or a minor key?"
   ]
  },
  {
   "cell_type": "markdown",
   "id": "21e4b9a5-7b4d-4825-81ff-b8f4779be815",
   "metadata": {},
   "source": [
    "**A5:** "
   ]
  },
  {
   "cell_type": "markdown",
   "id": "aa41d755-62fc-4ca4-87b9-dd8cb94c20bf",
   "metadata": {},
   "source": [
    "**Q6:** What is the mean number of beats per minute (`bpm`) in the songs included in the Spotify dataset? "
   ]
  },
  {
   "cell_type": "markdown",
   "id": "9215fb1d-cdac-4354-aa9b-555b87ab2102",
   "metadata": {
    "tags": []
   },
   "source": [
    "**A6:** "
   ]
  },
  {
   "cell_type": "markdown",
   "id": "d834ca44-a8d1-48af-8fcd-86304db90471",
   "metadata": {},
   "source": [
    "**Q7:** Create a visualization of the number of beats per minute (`bpm`) of the songs in the Spotify dataset.  Make sure to give your visualization a title.  "
   ]
  },
  {
   "cell_type": "code",
   "execution_count": 4,
   "id": "0baba40d-8515-4af2-9fe2-912b34b4563a",
   "metadata": {
    "tags": []
   },
   "outputs": [],
   "source": [
    "#A7: "
   ]
  },
  {
   "cell_type": "markdown",
   "id": "d03abe24-bbbb-4048-a1bd-3b0e4c07b255",
   "metadata": {},
   "source": [
    "**Q8:** In your own words, how would you describe the purpose of data visualization?"
   ]
  },
  {
   "cell_type": "markdown",
   "id": "359d10b0-60b8-49cf-b972-108e74e1e3bc",
   "metadata": {},
   "source": [
    "**A8:** "
   ]
  },
  {
   "cell_type": "markdown",
   "id": "0be9edf3-fa8c-4a2b-b3d0-8998374ce5b2",
   "metadata": {},
   "source": [
    "**Q9:** In your own words, describe the distribution of a feature."
   ]
  },
  {
   "cell_type": "markdown",
   "id": "f73af51a-a3ce-4aa0-857d-5d38692f534f",
   "metadata": {},
   "source": [
    "**A9:** "
   ]
  },
  {
   "cell_type": "markdown",
   "id": "2451b11c-e6fa-49fa-927b-15759479a2b4",
   "metadata": {},
   "source": [
    "**Q10:** In your own words, describe one principle of good visualization design."
   ]
  },
  {
   "cell_type": "markdown",
   "id": "8e3d3e83-3051-4299-91c9-ffbf68e28b69",
   "metadata": {},
   "source": [
    "**A10:** "
   ]
  }
 ],
 "metadata": {
  "kernelspec": {
   "display_name": "Python 3 (ipykernel)",
   "language": "python",
   "name": "python3"
  },
  "language_info": {
   "codemirror_mode": {
    "name": "ipython",
    "version": 3
   },
   "file_extension": ".py",
   "mimetype": "text/x-python",
   "name": "python",
   "nbconvert_exporter": "python",
   "pygments_lexer": "ipython3",
   "version": "3.11.4"
  }
 },
 "nbformat": 4,
 "nbformat_minor": 5
}

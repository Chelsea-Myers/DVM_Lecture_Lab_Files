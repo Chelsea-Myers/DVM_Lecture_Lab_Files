{
 "cells": [
  {
   "cell_type": "markdown",
   "id": "03ba50ef-04a5-4edc-9ef8-747de437c608",
   "metadata": {},
   "source": [
    "# Lab Instructions\n",
    "\n",
    "Instacart has received repeated complaints from customers about a specific grocery store being out of popular products when drivers come to pick them up for customers.  You have been hired by the grocery company to analyze Instacart customer behavior so that the store can do a better job managing inventory.  When you have your first meeting with the store manager, he is completely overwhelmed by the situation and doesn't even know where to begin.\n",
    "\n",
    "What are 5 pieces of information that the store manager needs to know to make sure the store is stocked when orders are placed?  Give answers to each of these questions using a figure and/or a written summary.  \n",
    "\n",
    "For example, maybe you think that one of the things the manager needs to know is how many bananas are ordered every hour. You would then produce a visualization that shows the mean number of orders contining bananas each hour of the day.  \n",
    "\n",
    "For the purpose of this lab, you can assume that all of the orders in the Instacart dataset came from the same store. \n",
    "\n",
    "For days of the week, 0 = Sunday, 1 = Monday, 2 = Tuesday, etc.\n",
    "\n",
    "For hours of the day, 0 = midnight, 1 = 1am, 2 = 2am, etc."
   ]
  },
  {
   "cell_type": "code",
   "execution_count": null,
   "id": "fc8253ca-7e5e-494f-adca-36bc456d13e4",
   "metadata": {},
   "outputs": [],
   "source": []
  }
 ],
 "metadata": {
  "kernelspec": {
   "display_name": "Python 3 (ipykernel)",
   "language": "python",
   "name": "python3"
  },
  "language_info": {
   "codemirror_mode": {
    "name": "ipython",
    "version": 3
   },
   "file_extension": ".py",
   "mimetype": "text/x-python",
   "name": "python",
   "nbconvert_exporter": "python",
   "pygments_lexer": "ipython3",
   "version": "3.11.4"
  }
 },
 "nbformat": 4,
 "nbformat_minor": 5
}
